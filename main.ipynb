{
 "cells": [
  {
   "cell_type": "markdown",
   "source": [
    "# Lambda Calculus\n",
    "\n",
    "This projects goal is to demonstrate the lambda calculus in python"
   ],
   "metadata": {
    "collapsed": false
   }
  },
  {
   "cell_type": "code",
   "execution_count": 186,
   "outputs": [],
   "source": [
    "foo = ..."
   ],
   "metadata": {
    "collapsed": false,
    "pycharm": {
     "name": "#%%\n"
    }
   }
  },
  {
   "cell_type": "markdown",
   "source": [
    "## Booleans\n",
    "\n",
    "This function can be used to convert an in lambda calculus encoded boolean to a Python `bool`."
   ],
   "metadata": {
    "collapsed": false,
    "pycharm": {
     "name": "#%% md\n"
    }
   }
  },
  {
   "cell_type": "code",
   "execution_count": 187,
   "outputs": [],
   "source": [
    "boolean = lambda f: f(True)(False)"
   ],
   "metadata": {
    "collapsed": false,
    "pycharm": {
     "name": "#%%\n"
    }
   }
  },
  {
   "cell_type": "markdown",
   "source": [
    "### Boolean encodings\n",
    "\n",
    "With these two functions the values True and False can be encoded in lambda calculus."
   ],
   "metadata": {
    "collapsed": false,
    "pycharm": {
     "name": "#%% md\n"
    }
   }
  },
  {
   "cell_type": "code",
   "execution_count": 188,
   "outputs": [],
   "source": [
    "true = lambda x: lambda y: x\n",
    "false = lambda x: lambda y: y"
   ],
   "metadata": {
    "collapsed": false,
    "pycharm": {
     "name": "#%%\n"
    }
   }
  },
  {
   "cell_type": "markdown",
   "source": [
    "### Logical functions\n",
    "\n",
    "These function modify oder combine in lambda calculus encoded booleans."
   ],
   "metadata": {
    "collapsed": false,
    "pycharm": {
     "name": "#%% md\n"
    }
   }
  },
  {
   "cell_type": "code",
   "execution_count": 189,
   "outputs": [],
   "source": [
    "not_ = lambda x: x(false)(true)\n",
    "and_ = lambda x: lambda y: (x(y)(false))(true)(false)\n",
    "or_ = lambda x: lambda y: (x(true)(y))(true)(false)\n",
    "xor = lambda x: lambda y: x(y)(not_(y))(false)(true)"
   ],
   "metadata": {
    "collapsed": false,
    "pycharm": {
     "name": "#%%\n"
    }
   }
  },
  {
   "cell_type": "markdown",
   "source": [
    "### Boolean Tests\n",
    "These tests are used to verify everything is working correct."
   ],
   "metadata": {
    "collapsed": false
   }
  },
  {
   "cell_type": "code",
   "execution_count": 190,
   "outputs": [],
   "source": [
    "assert boolean(not_(true)) == False\n",
    "assert boolean(not_(false)) == True"
   ],
   "metadata": {
    "collapsed": false,
    "pycharm": {
     "name": "#%%\n"
    }
   }
  },
  {
   "cell_type": "code",
   "execution_count": 191,
   "outputs": [],
   "source": [
    "assert boolean(and_(true)(true)) == True\n",
    "assert boolean(and_(true)(false)) == False\n",
    "assert boolean(and_(false)(true)) == False\n",
    "assert boolean(and_(false)(false)) == False"
   ],
   "metadata": {
    "collapsed": false,
    "pycharm": {
     "name": "#%%\n"
    }
   }
  },
  {
   "cell_type": "code",
   "execution_count": 192,
   "outputs": [],
   "source": [
    "assert boolean(or_(true)(true)) == True\n",
    "assert boolean(or_(true)(false)) == True\n",
    "assert boolean(or_(false)(true)) == True\n",
    "assert boolean(or_(false)(false)) == False"
   ],
   "metadata": {
    "collapsed": false,
    "pycharm": {
     "name": "#%%\n"
    }
   }
  },
  {
   "cell_type": "code",
   "execution_count": 193,
   "outputs": [],
   "source": [
    "assert boolean(xor(true)(false)) == True\n",
    "assert boolean(xor(false)(true)) == True\n",
    "assert boolean(xor(true)(true)) == False\n",
    "assert boolean(xor(false)(false)) == False"
   ],
   "metadata": {
    "collapsed": false,
    "pycharm": {
     "name": "#%%\n"
    }
   }
  },
  {
   "cell_type": "markdown",
   "source": [
    "## Numbers\n",
    "\n",
    "Numbers in lambda calculus according to the Church Literals."
   ],
   "metadata": {
    "collapsed": false,
    "pycharm": {
     "name": "#%% md\n"
    }
   }
  },
  {
   "cell_type": "markdown",
   "source": [
    "These functions can be used to encode and decode a Python `int` into a Church Literal."
   ],
   "metadata": {
    "collapsed": false
   }
  },
  {
   "cell_type": "code",
   "execution_count": 194,
   "outputs": [],
   "source": [
    "_apply_f_n_times = lambda f, n: (lambda x: x) if n == 0 else (lambda x: f(_apply_f_n_times(f, n - 1)(x)))\n",
    "\n",
    "encode_num = lambda n: (lambda f: lambda x: _apply_f_n_times(f, n)(x))\n",
    "decode_num = lambda num: num(lambda n: n + 1)(0)\n",
    "\n",
    "for i in range(1_000):\n",
    "    assert decode_num(encode_num(i)) == i"
   ],
   "metadata": {
    "collapsed": false,
    "pycharm": {
     "name": "#%%\n"
    }
   }
  },
  {
   "cell_type": "markdown",
   "source": [
    "Hardcoded encoded Church Literals for later use."
   ],
   "metadata": {
    "collapsed": false
   }
  },
  {
   "cell_type": "code",
   "execution_count": 195,
   "outputs": [],
   "source": [
    "_0 = encode_num(0)\n",
    "_1 = encode_num(1)\n",
    "_2 = encode_num(2)\n",
    "_3 = encode_num(3)\n",
    "_4 = encode_num(4)\n",
    "_5 = encode_num(5)\n",
    "_6 = encode_num(6)\n",
    "_7 = encode_num(7)\n",
    "_8 = encode_num(8)\n",
    "_9 = encode_num(9)\n",
    "_10 = encode_num(10)"
   ],
   "metadata": {
    "collapsed": false,
    "pycharm": {
     "name": "#%%\n"
    }
   }
  },
  {
   "cell_type": "markdown",
   "source": [
    "### Mathematical Functions"
   ],
   "metadata": {
    "collapsed": false
   }
  },
  {
   "cell_type": "code",
   "execution_count": 196,
   "outputs": [],
   "source": [
    "add = lambda l: lambda r: lambda f: lambda x: l(f)(r(f)(x))\n",
    "mul = lambda l: lambda r: lambda f: l(r(f))"
   ],
   "metadata": {
    "collapsed": false,
    "pycharm": {
     "name": "#%%\n"
    }
   }
  },
  {
   "cell_type": "markdown",
   "source": [
    "#### Tests"
   ],
   "metadata": {
    "collapsed": false,
    "pycharm": {
     "name": "#%% md\n"
    }
   }
  },
  {
   "cell_type": "code",
   "execution_count": 197,
   "outputs": [],
   "source": [
    "for num_1 in range(10):\n",
    "    for num_2 in range(10):\n",
    "        enc_1, enc_2 = encode_num(num_1), encode_num(num_2)\n",
    "\n",
    "        # ADD\n",
    "        assert decode_num(add(enc_1)(enc_2)) == num_1 + num_2\n",
    "\n",
    "        # MUL\n",
    "        assert decode_num(mul(enc_1)(enc_2)) == num_1 * num_2"
   ],
   "metadata": {
    "collapsed": false,
    "pycharm": {
     "name": "#%%\n"
    }
   }
  },
  {
   "cell_type": "markdown",
   "source": [
    "## Lists\n",
    "\n",
    "Encoded lists in lambda calculus."
   ],
   "metadata": {
    "collapsed": false,
    "pycharm": {
     "name": "#%% md\n"
    }
   }
  },
  {
   "cell_type": "code",
   "execution_count": 198,
   "outputs": [],
   "source": [
    "nil = lambda x: true\n",
    "cons = lambda x: lambda y: lambda c: c(x)(y)\n",
    "head = lambda d: d(true)\n",
    "null = lambda d: d(lambda x: lambda y: false)\n",
    "tail = lambda d: d(false)"
   ],
   "metadata": {
    "collapsed": false,
    "pycharm": {
     "name": "#%%\n"
    }
   }
  },
  {
   "cell_type": "code",
   "execution_count": 199,
   "outputs": [],
   "source": [
    "encode_list = lambda l: nil if not l else cons(l[0])(encode_list(l[1:]))\n",
    "decode_list = lambda c: [] if boolean(null(c)) else [head(c)] + decode_list(tail(c))"
   ],
   "metadata": {
    "collapsed": false,
    "pycharm": {
     "name": "#%%\n"
    }
   }
  },
  {
   "cell_type": "code",
   "execution_count": 200,
   "outputs": [],
   "source": [
    "list_ = list(range(10))\n",
    "enc_list = encode_list(list_)\n",
    "assert list_ == decode_list(enc_list)"
   ],
   "metadata": {
    "collapsed": false,
    "pycharm": {
     "name": "#%%\n"
    }
   }
  }
 ],
 "metadata": {
  "kernelspec": {
   "display_name": "Python 3",
   "language": "python",
   "name": "python3"
  },
  "language_info": {
   "codemirror_mode": {
    "name": "ipython",
    "version": 2
   },
   "file_extension": ".py",
   "mimetype": "text/x-python",
   "name": "python",
   "nbconvert_exporter": "python",
   "pygments_lexer": "ipython2",
   "version": "2.7.6"
  }
 },
 "nbformat": 4,
 "nbformat_minor": 0
}